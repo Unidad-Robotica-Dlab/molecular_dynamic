{
 "cells": [
  {
   "cell_type": "code",
   "execution_count": 87,
   "metadata": {},
   "outputs": [],
   "source": [
    "import numpy as np\n",
    "import pandas as pd\n",
    "import matplotlib.pyplot as plt\n",
    "from sklearn.cluster import KMeans\n",
    "\n",
    "datos = pd.read_csv('energy_pot_50ns_E=0,2_75chol_x20.csv')\n"
   ]
  },
  {
   "cell_type": "code",
   "execution_count": 88,
   "metadata": {},
   "outputs": [
    {
     "data": {
      "text/html": [
       "<div>\n",
       "<style scoped>\n",
       "    .dataframe tbody tr th:only-of-type {\n",
       "        vertical-align: middle;\n",
       "    }\n",
       "\n",
       "    .dataframe tbody tr th {\n",
       "        vertical-align: top;\n",
       "    }\n",
       "\n",
       "    .dataframe thead th {\n",
       "        text-align: right;\n",
       "    }\n",
       "</style>\n",
       "<table border=\"1\" class=\"dataframe\">\n",
       "  <thead>\n",
       "    <tr style=\"text-align: right;\">\n",
       "      <th></th>\n",
       "      <th>Average</th>\n",
       "      <th>Err.Est.</th>\n",
       "      <th>RMSD</th>\n",
       "      <th>Tot-Drift</th>\n",
       "      <th>RMSD.1</th>\n",
       "    </tr>\n",
       "  </thead>\n",
       "  <tbody>\n",
       "    <tr>\n",
       "      <th>0</th>\n",
       "      <td>-321574</td>\n",
       "      <td>38</td>\n",
       "      <td>994,944</td>\n",
       "      <td>-218,685</td>\n",
       "      <td>0.99</td>\n",
       "    </tr>\n",
       "    <tr>\n",
       "      <th>1</th>\n",
       "      <td>-321661</td>\n",
       "      <td>68</td>\n",
       "      <td>998,616</td>\n",
       "      <td>-444,796</td>\n",
       "      <td>2.03</td>\n",
       "    </tr>\n",
       "    <tr>\n",
       "      <th>2</th>\n",
       "      <td>-321698</td>\n",
       "      <td>32</td>\n",
       "      <td>988,904</td>\n",
       "      <td>-191,461</td>\n",
       "      <td>2.95</td>\n",
       "    </tr>\n",
       "    <tr>\n",
       "      <th>3</th>\n",
       "      <td>-321500</td>\n",
       "      <td>52</td>\n",
       "      <td>991,857</td>\n",
       "      <td>186,891</td>\n",
       "      <td>1.33</td>\n",
       "    </tr>\n",
       "    <tr>\n",
       "      <th>4</th>\n",
       "      <td>-321693</td>\n",
       "      <td>51</td>\n",
       "      <td>994,556</td>\n",
       "      <td>-219,288</td>\n",
       "      <td>1.60</td>\n",
       "    </tr>\n",
       "    <tr>\n",
       "      <th>5</th>\n",
       "      <td>-321696</td>\n",
       "      <td>61</td>\n",
       "      <td>1010,65</td>\n",
       "      <td>-241,76</td>\n",
       "      <td>0.97</td>\n",
       "    </tr>\n",
       "    <tr>\n",
       "      <th>6</th>\n",
       "      <td>-321546</td>\n",
       "      <td>36</td>\n",
       "      <td>993026</td>\n",
       "      <td>-780,828</td>\n",
       "      <td>2.53</td>\n",
       "    </tr>\n",
       "    <tr>\n",
       "      <th>7</th>\n",
       "      <td>-321628</td>\n",
       "      <td>48</td>\n",
       "      <td>988094</td>\n",
       "      <td>-199,633</td>\n",
       "      <td>1.71</td>\n",
       "    </tr>\n",
       "    <tr>\n",
       "      <th>8</th>\n",
       "      <td>-321679</td>\n",
       "      <td>64</td>\n",
       "      <td>996756</td>\n",
       "      <td>-402,191</td>\n",
       "      <td>1.90</td>\n",
       "    </tr>\n",
       "    <tr>\n",
       "      <th>9</th>\n",
       "      <td>-321537</td>\n",
       "      <td>27</td>\n",
       "      <td>999404</td>\n",
       "      <td>-46,5298</td>\n",
       "      <td>1.61</td>\n",
       "    </tr>\n",
       "    <tr>\n",
       "      <th>10</th>\n",
       "      <td>-321676</td>\n",
       "      <td>61</td>\n",
       "      <td>997005</td>\n",
       "      <td>-359,123</td>\n",
       "      <td>2.19</td>\n",
       "    </tr>\n",
       "    <tr>\n",
       "      <th>11</th>\n",
       "      <td>-321670</td>\n",
       "      <td>34</td>\n",
       "      <td>987469</td>\n",
       "      <td>-124,349</td>\n",
       "      <td>1.04</td>\n",
       "    </tr>\n",
       "    <tr>\n",
       "      <th>12</th>\n",
       "      <td>-321744</td>\n",
       "      <td>44</td>\n",
       "      <td>1008,41</td>\n",
       "      <td>-134,019</td>\n",
       "      <td>0.90</td>\n",
       "    </tr>\n",
       "    <tr>\n",
       "      <th>13</th>\n",
       "      <td>-321663</td>\n",
       "      <td>53</td>\n",
       "      <td>997,821</td>\n",
       "      <td>-301,755</td>\n",
       "      <td>2.11</td>\n",
       "    </tr>\n",
       "    <tr>\n",
       "      <th>14</th>\n",
       "      <td>-321613</td>\n",
       "      <td>59</td>\n",
       "      <td>997,143</td>\n",
       "      <td>-386,749</td>\n",
       "      <td>1.66</td>\n",
       "    </tr>\n",
       "    <tr>\n",
       "      <th>15</th>\n",
       "      <td>-321640</td>\n",
       "      <td>73</td>\n",
       "      <td>1003,7</td>\n",
       "      <td>-422,323</td>\n",
       "      <td>1.87</td>\n",
       "    </tr>\n",
       "    <tr>\n",
       "      <th>16</th>\n",
       "      <td>-321570</td>\n",
       "      <td>31</td>\n",
       "      <td>986,685</td>\n",
       "      <td>-113,663</td>\n",
       "      <td>1.72</td>\n",
       "    </tr>\n",
       "    <tr>\n",
       "      <th>17</th>\n",
       "      <td>-321572</td>\n",
       "      <td>32</td>\n",
       "      <td>985,282</td>\n",
       "      <td>-209,807</td>\n",
       "      <td>1.97</td>\n",
       "    </tr>\n",
       "    <tr>\n",
       "      <th>18</th>\n",
       "      <td>-321691</td>\n",
       "      <td>56</td>\n",
       "      <td>989,901</td>\n",
       "      <td>-334,708</td>\n",
       "      <td>2.59</td>\n",
       "    </tr>\n",
       "    <tr>\n",
       "      <th>19</th>\n",
       "      <td>-321588</td>\n",
       "      <td>17</td>\n",
       "      <td>990,973</td>\n",
       "      <td>-13,0658</td>\n",
       "      <td>1.32</td>\n",
       "    </tr>\n",
       "  </tbody>\n",
       "</table>\n",
       "</div>"
      ],
      "text/plain": [
       "    Average  Err.Est.     RMSD Tot-Drift  RMSD.1\n",
       "0   -321574        38  994,944  -218,685    0.99\n",
       "1   -321661        68  998,616  -444,796    2.03\n",
       "2   -321698        32  988,904  -191,461    2.95\n",
       "3   -321500        52  991,857   186,891    1.33\n",
       "4   -321693        51  994,556  -219,288    1.60\n",
       "5   -321696        61  1010,65   -241,76    0.97\n",
       "6   -321546        36   993026  -780,828    2.53\n",
       "7   -321628        48   988094  -199,633    1.71\n",
       "8   -321679        64   996756  -402,191    1.90\n",
       "9   -321537        27   999404  -46,5298    1.61\n",
       "10  -321676        61   997005  -359,123    2.19\n",
       "11  -321670        34   987469  -124,349    1.04\n",
       "12  -321744        44  1008,41  -134,019    0.90\n",
       "13  -321663        53  997,821  -301,755    2.11\n",
       "14  -321613        59  997,143  -386,749    1.66\n",
       "15  -321640        73   1003,7  -422,323    1.87\n",
       "16  -321570        31  986,685  -113,663    1.72\n",
       "17  -321572        32  985,282  -209,807    1.97\n",
       "18  -321691        56  989,901  -334,708    2.59\n",
       "19  -321588        17  990,973  -13,0658    1.32"
      ]
     },
     "execution_count": 88,
     "metadata": {},
     "output_type": "execute_result"
    }
   ],
   "source": [
    "datos"
   ]
  },
  {
   "cell_type": "code",
   "execution_count": 89,
   "metadata": {},
   "outputs": [
    {
     "name": "stdout",
     "output_type": "stream",
     "text": [
      "<class 'pandas.core.frame.DataFrame'>\n",
      "RangeIndex: 20 entries, 0 to 19\n",
      "Data columns (total 5 columns):\n",
      " #   Column     Non-Null Count  Dtype  \n",
      "---  ------     --------------  -----  \n",
      " 0   Average    20 non-null     int64  \n",
      " 1   Err.Est.   20 non-null     int64  \n",
      " 2   RMSD       20 non-null     object \n",
      " 3   Tot-Drift  20 non-null     object \n",
      " 4   RMSD.1     20 non-null     float64\n",
      "dtypes: float64(1), int64(2), object(2)\n",
      "memory usage: 928.0+ bytes\n"
     ]
    }
   ],
   "source": [
    "datos.info()"
   ]
  },
  {
   "cell_type": "code",
   "execution_count": 90,
   "metadata": {},
   "outputs": [
    {
     "data": {
      "text/plain": [
       "0    -321574\n",
       "1    -321661\n",
       "2    -321698\n",
       "3    -321500\n",
       "4    -321693\n",
       "5    -321696\n",
       "6    -321546\n",
       "7    -321628\n",
       "8    -321679\n",
       "9    -321537\n",
       "10   -321676\n",
       "11   -321670\n",
       "12   -321744\n",
       "13   -321663\n",
       "14   -321613\n",
       "15   -321640\n",
       "16   -321570\n",
       "17   -321572\n",
       "18   -321691\n",
       "19   -321588\n",
       "Name: Average, dtype: int64"
      ]
     },
     "execution_count": 90,
     "metadata": {},
     "output_type": "execute_result"
    }
   ],
   "source": [
    "datos['Average']"
   ]
  },
  {
   "cell_type": "code",
   "execution_count": 91,
   "metadata": {},
   "outputs": [],
   "source": [
    "Average_nom=((datos['Average']-datos['Average'].min())/(datos['Average'].max()-datos['Average'].min()))"
   ]
  },
  {
   "cell_type": "code",
   "execution_count": 92,
   "metadata": {},
   "outputs": [
    {
     "data": {
      "text/plain": [
       "0     0.696721\n",
       "1     0.340164\n",
       "2     0.188525\n",
       "3     1.000000\n",
       "4     0.209016\n",
       "5     0.196721\n",
       "6     0.811475\n",
       "7     0.475410\n",
       "8     0.266393\n",
       "9     0.848361\n",
       "10    0.278689\n",
       "11    0.303279\n",
       "12    0.000000\n",
       "13    0.331967\n",
       "14    0.536885\n",
       "15    0.426230\n",
       "16    0.713115\n",
       "17    0.704918\n",
       "18    0.217213\n",
       "19    0.639344\n",
       "Name: Average, dtype: float64"
      ]
     },
     "execution_count": 92,
     "metadata": {},
     "output_type": "execute_result"
    }
   ],
   "source": [
    "Average_nom"
   ]
  },
  {
   "cell_type": "code",
   "execution_count": 93,
   "metadata": {},
   "outputs": [
    {
     "data": {
      "text/plain": [
       "0     0.99\n",
       "1     2.03\n",
       "2     2.95\n",
       "3     1.33\n",
       "4     1.60\n",
       "5     0.97\n",
       "6     2.53\n",
       "7     1.71\n",
       "8     1.90\n",
       "9     1.61\n",
       "10    2.19\n",
       "11    1.04\n",
       "12    0.90\n",
       "13    2.11\n",
       "14    1.66\n",
       "15    1.87\n",
       "16    1.72\n",
       "17    1.97\n",
       "18    2.59\n",
       "19    1.32\n",
       "Name: RMSD.1, dtype: float64"
      ]
     },
     "execution_count": 93,
     "metadata": {},
     "output_type": "execute_result"
    }
   ],
   "source": [
    "datos['RMSD.1']"
   ]
  },
  {
   "cell_type": "code",
   "execution_count": 94,
   "metadata": {},
   "outputs": [],
   "source": [
    "RMSD_nom=(datos['RMSD.1']-datos['RMSD.1'].min())/(datos['RMSD.1'].max()-datos['RMSD.1'].min())"
   ]
  },
  {
   "cell_type": "code",
   "execution_count": 95,
   "metadata": {
    "scrolled": false
   },
   "outputs": [
    {
     "data": {
      "text/plain": [
       "0     0.043902\n",
       "1     0.551220\n",
       "2     1.000000\n",
       "3     0.209756\n",
       "4     0.341463\n",
       "5     0.034146\n",
       "6     0.795122\n",
       "7     0.395122\n",
       "8     0.487805\n",
       "9     0.346341\n",
       "10    0.629268\n",
       "11    0.068293\n",
       "12    0.000000\n",
       "13    0.590244\n",
       "14    0.370732\n",
       "15    0.473171\n",
       "16    0.400000\n",
       "17    0.521951\n",
       "18    0.824390\n",
       "19    0.204878\n",
       "Name: RMSD.1, dtype: float64"
      ]
     },
     "execution_count": 95,
     "metadata": {},
     "output_type": "execute_result"
    }
   ],
   "source": [
    "RMSD_nom"
   ]
  },
  {
   "cell_type": "code",
   "execution_count": 101,
   "metadata": {},
   "outputs": [
    {
     "data": {
      "image/png": "[encoded data removed]",
      "text/plain": [
       "<Figure size 432x288 with 1 Axes>"
      ]
     },
     "metadata": {
      "needs_background": "light"
     },
     "output_type": "display_data"
    }
   ],
   "source": [
    "import matplotlib.pyplot as plt\n",
    "import numpy as np\n",
    "\n",
    "plt.scatter(Average_nom, RMSD_nom)\n",
    "plt.show()"
   ]
  },
  {
   "cell_type": "code",
   "execution_count": null,
   "metadata": {},
   "outputs": [],
   "source": []
  }
 ],
 "metadata": {
  "kernelspec": {
   "display_name": "Python 3",
   "language": "python",
   "name": "python3"
  },
  "language_info": {
   "codemirror_mode": {
    "name": "ipython",
    "version": 3
   },
   "file_extension": ".py",
   "mimetype": "text/x-python",
   "name": "python",
   "nbconvert_exporter": "python",
   "pygments_lexer": "ipython3",
   "version": "3.8.3"
  }
 },
 "nbformat": 4,
 "nbformat_minor": 4
}
