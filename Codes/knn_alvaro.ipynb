{
 "cells": [
  {
   "cell_type": "code",
   "execution_count": 36,
   "metadata": {},
   "outputs": [],
   "source": [
    "import numpy as np\n",
    "import pandas as pd\n",
    "import matplotlib.pyplot as plt\n",
    "from sklearn.cluster import KMeans\n",
    "\n",
    "datos = pd.read_csv('https://raw.githubusercontent.com/Unidad-Robotica-Dlab/molecular_dynamic/main/Data/energy_pot_50ns_E%3D0%2C2_75chol_x20.csv')\n"
   ]
  },
  {
   "cell_type": "code",
   "execution_count": 37,
   "metadata": {},
   "outputs": [
    {
     "data": {
      "text/html": [
       "<div>\n",
       "<style scoped>\n",
       "    .dataframe tbody tr th:only-of-type {\n",
       "        vertical-align: middle;\n",
       "    }\n",
       "\n",
       "    .dataframe tbody tr th {\n",
       "        vertical-align: top;\n",
       "    }\n",
       "\n",
       "    .dataframe thead th {\n",
       "        text-align: right;\n",
       "    }\n",
       "</style>\n",
       "<table border=\"1\" class=\"dataframe\">\n",
       "  <thead>\n",
       "    <tr style=\"text-align: right;\">\n",
       "      <th></th>\n",
       "      <th>Average</th>\n",
       "      <th>Err.Est.</th>\n",
       "      <th>RMSD</th>\n",
       "      <th>Tot-Drift</th>\n",
       "      <th>RMSD.1</th>\n",
       "    </tr>\n",
       "  </thead>\n",
       "  <tbody>\n",
       "    <tr>\n",
       "      <th>0</th>\n",
       "      <td>-321574</td>\n",
       "      <td>38</td>\n",
       "      <td>994.944</td>\n",
       "      <td>-218.6850</td>\n",
       "      <td>0.99</td>\n",
       "    </tr>\n",
       "    <tr>\n",
       "      <th>1</th>\n",
       "      <td>-321661</td>\n",
       "      <td>68</td>\n",
       "      <td>998.616</td>\n",
       "      <td>-444.7960</td>\n",
       "      <td>2.03</td>\n",
       "    </tr>\n",
       "    <tr>\n",
       "      <th>2</th>\n",
       "      <td>-321698</td>\n",
       "      <td>32</td>\n",
       "      <td>988.904</td>\n",
       "      <td>-191.4610</td>\n",
       "      <td>2.95</td>\n",
       "    </tr>\n",
       "    <tr>\n",
       "      <th>3</th>\n",
       "      <td>-321500</td>\n",
       "      <td>52</td>\n",
       "      <td>991.857</td>\n",
       "      <td>186.8910</td>\n",
       "      <td>1.33</td>\n",
       "    </tr>\n",
       "    <tr>\n",
       "      <th>4</th>\n",
       "      <td>-321693</td>\n",
       "      <td>51</td>\n",
       "      <td>994.556</td>\n",
       "      <td>-219.2880</td>\n",
       "      <td>1.60</td>\n",
       "    </tr>\n",
       "    <tr>\n",
       "      <th>5</th>\n",
       "      <td>-321696</td>\n",
       "      <td>61</td>\n",
       "      <td>1010.650</td>\n",
       "      <td>-241.7600</td>\n",
       "      <td>0.97</td>\n",
       "    </tr>\n",
       "    <tr>\n",
       "      <th>6</th>\n",
       "      <td>-321546</td>\n",
       "      <td>36</td>\n",
       "      <td>993.026</td>\n",
       "      <td>-780.8280</td>\n",
       "      <td>2.53</td>\n",
       "    </tr>\n",
       "    <tr>\n",
       "      <th>7</th>\n",
       "      <td>-321628</td>\n",
       "      <td>48</td>\n",
       "      <td>988.094</td>\n",
       "      <td>-199.6330</td>\n",
       "      <td>1.71</td>\n",
       "    </tr>\n",
       "    <tr>\n",
       "      <th>8</th>\n",
       "      <td>-321679</td>\n",
       "      <td>64</td>\n",
       "      <td>996.756</td>\n",
       "      <td>-402.1910</td>\n",
       "      <td>1.90</td>\n",
       "    </tr>\n",
       "    <tr>\n",
       "      <th>9</th>\n",
       "      <td>-321537</td>\n",
       "      <td>27</td>\n",
       "      <td>999.404</td>\n",
       "      <td>-46.5298</td>\n",
       "      <td>1.61</td>\n",
       "    </tr>\n",
       "    <tr>\n",
       "      <th>10</th>\n",
       "      <td>-321676</td>\n",
       "      <td>61</td>\n",
       "      <td>997.005</td>\n",
       "      <td>-359.1230</td>\n",
       "      <td>2.19</td>\n",
       "    </tr>\n",
       "    <tr>\n",
       "      <th>11</th>\n",
       "      <td>-321670</td>\n",
       "      <td>34</td>\n",
       "      <td>987.469</td>\n",
       "      <td>-124.3490</td>\n",
       "      <td>1.04</td>\n",
       "    </tr>\n",
       "    <tr>\n",
       "      <th>12</th>\n",
       "      <td>-321744</td>\n",
       "      <td>44</td>\n",
       "      <td>1008.410</td>\n",
       "      <td>-134.0190</td>\n",
       "      <td>0.90</td>\n",
       "    </tr>\n",
       "    <tr>\n",
       "      <th>13</th>\n",
       "      <td>-321663</td>\n",
       "      <td>53</td>\n",
       "      <td>997.821</td>\n",
       "      <td>-301.7550</td>\n",
       "      <td>2.11</td>\n",
       "    </tr>\n",
       "    <tr>\n",
       "      <th>14</th>\n",
       "      <td>-321613</td>\n",
       "      <td>59</td>\n",
       "      <td>997.143</td>\n",
       "      <td>-386.7490</td>\n",
       "      <td>1.66</td>\n",
       "    </tr>\n",
       "    <tr>\n",
       "      <th>15</th>\n",
       "      <td>-321640</td>\n",
       "      <td>73</td>\n",
       "      <td>1003.700</td>\n",
       "      <td>-422.3230</td>\n",
       "      <td>1.87</td>\n",
       "    </tr>\n",
       "    <tr>\n",
       "      <th>16</th>\n",
       "      <td>-321570</td>\n",
       "      <td>31</td>\n",
       "      <td>986.685</td>\n",
       "      <td>-113.6630</td>\n",
       "      <td>1.72</td>\n",
       "    </tr>\n",
       "    <tr>\n",
       "      <th>17</th>\n",
       "      <td>-321572</td>\n",
       "      <td>32</td>\n",
       "      <td>985.282</td>\n",
       "      <td>-209.8070</td>\n",
       "      <td>1.97</td>\n",
       "    </tr>\n",
       "    <tr>\n",
       "      <th>18</th>\n",
       "      <td>-321691</td>\n",
       "      <td>56</td>\n",
       "      <td>989.901</td>\n",
       "      <td>-334.7080</td>\n",
       "      <td>2.59</td>\n",
       "    </tr>\n",
       "    <tr>\n",
       "      <th>19</th>\n",
       "      <td>-321588</td>\n",
       "      <td>17</td>\n",
       "      <td>990.973</td>\n",
       "      <td>-13.0658</td>\n",
       "      <td>1.32</td>\n",
       "    </tr>\n",
       "  </tbody>\n",
       "</table>\n",
       "</div>"
      ],
      "text/plain": [
       "    Average  Err.Est.      RMSD  Tot-Drift  RMSD.1\n",
       "0   -321574        38   994.944  -218.6850    0.99\n",
       "1   -321661        68   998.616  -444.7960    2.03\n",
       "2   -321698        32   988.904  -191.4610    2.95\n",
       "3   -321500        52   991.857   186.8910    1.33\n",
       "4   -321693        51   994.556  -219.2880    1.60\n",
       "5   -321696        61  1010.650  -241.7600    0.97\n",
       "6   -321546        36   993.026  -780.8280    2.53\n",
       "7   -321628        48   988.094  -199.6330    1.71\n",
       "8   -321679        64   996.756  -402.1910    1.90\n",
       "9   -321537        27   999.404   -46.5298    1.61\n",
       "10  -321676        61   997.005  -359.1230    2.19\n",
       "11  -321670        34   987.469  -124.3490    1.04\n",
       "12  -321744        44  1008.410  -134.0190    0.90\n",
       "13  -321663        53   997.821  -301.7550    2.11\n",
       "14  -321613        59   997.143  -386.7490    1.66\n",
       "15  -321640        73  1003.700  -422.3230    1.87\n",
       "16  -321570        31   986.685  -113.6630    1.72\n",
       "17  -321572        32   985.282  -209.8070    1.97\n",
       "18  -321691        56   989.901  -334.7080    2.59\n",
       "19  -321588        17   990.973   -13.0658    1.32"
      ]
     },
     "execution_count": 37,
     "metadata": {},
     "output_type": "execute_result"
    }
   ],
   "source": [
    "datos"
   ]
  },
  {
   "cell_type": "code",
   "execution_count": 38,
   "metadata": {},
   "outputs": [
    {
     "name": "stdout",
     "output_type": "stream",
     "text": [
      "<class 'pandas.core.frame.DataFrame'>\n",
      "RangeIndex: 20 entries, 0 to 19\n",
      "Data columns (total 5 columns):\n",
      " #   Column     Non-Null Count  Dtype  \n",
      "---  ------     --------------  -----  \n",
      " 0   Average    20 non-null     int64  \n",
      " 1   Err.Est.   20 non-null     int64  \n",
      " 2   RMSD       20 non-null     float64\n",
      " 3   Tot-Drift  20 non-null     float64\n",
      " 4   RMSD.1     20 non-null     float64\n",
      "dtypes: float64(3), int64(2)\n",
      "memory usage: 928.0 bytes\n"
     ]
    }
   ],
   "source": [
    "datos.info()"
   ]
  },
  {
   "cell_type": "code",
   "execution_count": 39,
   "metadata": {},
   "outputs": [
    {
     "data": {
      "text/plain": [
       "0    -321574\n",
       "1    -321661\n",
       "2    -321698\n",
       "3    -321500\n",
       "4    -321693\n",
       "5    -321696\n",
       "6    -321546\n",
       "7    -321628\n",
       "8    -321679\n",
       "9    -321537\n",
       "10   -321676\n",
       "11   -321670\n",
       "12   -321744\n",
       "13   -321663\n",
       "14   -321613\n",
       "15   -321640\n",
       "16   -321570\n",
       "17   -321572\n",
       "18   -321691\n",
       "19   -321588\n",
       "Name: Average, dtype: int64"
      ]
     },
     "execution_count": 39,
     "metadata": {},
     "output_type": "execute_result"
    }
   ],
   "source": [
    "datos['Average']"
   ]
  },
  {
   "cell_type": "code",
   "execution_count": 40,
   "metadata": {},
   "outputs": [],
   "source": [
    "Average_nom=((datos['Average']-datos['Average'].min())/(datos['Average'].max()-datos['Average'].min()))"
   ]
  },
  {
   "cell_type": "code",
   "execution_count": 41,
   "metadata": {},
   "outputs": [
    {
     "data": {
      "text/plain": [
       "0     0.696721\n",
       "1     0.340164\n",
       "2     0.188525\n",
       "3     1.000000\n",
       "4     0.209016\n",
       "5     0.196721\n",
       "6     0.811475\n",
       "7     0.475410\n",
       "8     0.266393\n",
       "9     0.848361\n",
       "10    0.278689\n",
       "11    0.303279\n",
       "12    0.000000\n",
       "13    0.331967\n",
       "14    0.536885\n",
       "15    0.426230\n",
       "16    0.713115\n",
       "17    0.704918\n",
       "18    0.217213\n",
       "19    0.639344\n",
       "Name: Average, dtype: float64"
      ]
     },
     "execution_count": 41,
     "metadata": {},
     "output_type": "execute_result"
    }
   ],
   "source": [
    "Average_nom"
   ]
  },
  {
   "cell_type": "code",
   "execution_count": 42,
   "metadata": {},
   "outputs": [
    {
     "data": {
      "text/plain": [
       "0     0.99\n",
       "1     2.03\n",
       "2     2.95\n",
       "3     1.33\n",
       "4     1.60\n",
       "5     0.97\n",
       "6     2.53\n",
       "7     1.71\n",
       "8     1.90\n",
       "9     1.61\n",
       "10    2.19\n",
       "11    1.04\n",
       "12    0.90\n",
       "13    2.11\n",
       "14    1.66\n",
       "15    1.87\n",
       "16    1.72\n",
       "17    1.97\n",
       "18    2.59\n",
       "19    1.32\n",
       "Name: RMSD.1, dtype: float64"
      ]
     },
     "execution_count": 42,
     "metadata": {},
     "output_type": "execute_result"
    }
   ],
   "source": [
    "datos['RMSD.1']"
   ]
  },
  {
   "cell_type": "code",
   "execution_count": 43,
   "metadata": {},
   "outputs": [],
   "source": [
    "RMSD_nom=(datos['RMSD.1']-datos['RMSD.1'].min())/(datos['RMSD.1'].max()-datos['RMSD.1'].min())"
   ]
  },
  {
   "cell_type": "code",
   "execution_count": 44,
   "metadata": {
    "scrolled": false
   },
   "outputs": [
    {
     "data": {
      "text/plain": [
       "0     0.043902\n",
       "1     0.551220\n",
       "2     1.000000\n",
       "3     0.209756\n",
       "4     0.341463\n",
       "5     0.034146\n",
       "6     0.795122\n",
       "7     0.395122\n",
       "8     0.487805\n",
       "9     0.346341\n",
       "10    0.629268\n",
       "11    0.068293\n",
       "12    0.000000\n",
       "13    0.590244\n",
       "14    0.370732\n",
       "15    0.473171\n",
       "16    0.400000\n",
       "17    0.521951\n",
       "18    0.824390\n",
       "19    0.204878\n",
       "Name: RMSD.1, dtype: float64"
      ]
     },
     "execution_count": 44,
     "metadata": {},
     "output_type": "execute_result"
    }
   ],
   "source": [
    "RMSD_nom"
   ]
  },
  {
   "cell_type": "code",
   "execution_count": 45,
   "metadata": {},
   "outputs": [
    {
     "data": {
      "image/png": "[encoded data removed]",
      "text/plain": [
       "<Figure size 432x288 with 1 Axes>"
      ]
     },
     "metadata": {
      "needs_background": "light"
     },
     "output_type": "display_data"
    }
   ],
   "source": [
    "import matplotlib.pyplot as plt\n",
    "import numpy as np\n",
    "\n",
    "plt.scatter(Average_nom, RMSD_nom)\n",
    "plt.show()"
   ]
  },
  {
   "cell_type": "code",
   "execution_count": 46,
   "metadata": {},
   "outputs": [
    {
     "data": {
      "image/png": "[encoded data removed]",
      "text/plain": [
       "<Figure size 432x288 with 1 Axes>"
      ]
     },
     "metadata": {
      "needs_background": "light"
     },
     "output_type": "display_data"
    }
   ],
   "source": [
    "plt.scatter(RMSD_nom, Average_nom)\n",
    "plt.show()"
   ]
  },
  {
   "cell_type": "code",
   "execution_count": 47,
   "metadata": {},
   "outputs": [
    {
     "data": {
      "text/plain": [
       "0    -218.6850\n",
       "1    -444.7960\n",
       "2    -191.4610\n",
       "3     186.8910\n",
       "4    -219.2880\n",
       "5    -241.7600\n",
       "6    -780.8280\n",
       "7    -199.6330\n",
       "8    -402.1910\n",
       "9     -46.5298\n",
       "10   -359.1230\n",
       "11   -124.3490\n",
       "12   -134.0190\n",
       "13   -301.7550\n",
       "14   -386.7490\n",
       "15   -422.3230\n",
       "16   -113.6630\n",
       "17   -209.8070\n",
       "18   -334.7080\n",
       "19    -13.0658\n",
       "Name: Tot-Drift, dtype: float64"
      ]
     },
     "execution_count": 47,
     "metadata": {},
     "output_type": "execute_result"
    }
   ],
   "source": [
    "datos['Tot-Drift']"
   ]
  },
  {
   "cell_type": "code",
   "execution_count": 48,
   "metadata": {},
   "outputs": [],
   "source": [
    "TopDrift_nom=(datos['Tot-Drift']-datos['Tot-Drift'].min())/(datos['Tot-Drift'].max()-datos['Tot-Drift'].min())"
   ]
  },
  {
   "cell_type": "code",
   "execution_count": 49,
   "metadata": {},
   "outputs": [
    {
     "data": {
      "text/plain": [
       "0     0.580895\n",
       "1     0.347241\n",
       "2     0.609027\n",
       "3     1.000000\n",
       "4     0.580272\n",
       "5     0.557050\n",
       "6     0.000000\n",
       "7     0.600582\n",
       "8     0.391268\n",
       "9     0.758793\n",
       "10    0.435772\n",
       "11    0.678378\n",
       "12    0.668385\n",
       "13    0.495054\n",
       "14    0.407225\n",
       "15    0.370464\n",
       "16    0.689420\n",
       "17    0.590069\n",
       "18    0.461002\n",
       "19    0.793373\n",
       "Name: Tot-Drift, dtype: float64"
      ]
     },
     "execution_count": 49,
     "metadata": {},
     "output_type": "execute_result"
    }
   ],
   "source": [
    "TopDrift_nom"
   ]
  },
  {
   "cell_type": "code",
   "execution_count": 50,
   "metadata": {},
   "outputs": [
    {
     "data": {
      "image/png": "[encoded data removed]",
      "text/plain": [
       "<Figure size 432x288 with 1 Axes>"
      ]
     },
     "metadata": {
      "needs_background": "light"
     },
     "output_type": "display_data"
    }
   ],
   "source": [
    "plt.scatter(Average_nom, TopDrift_nom)\n",
    "plt.show()"
   ]
  },
  {
   "cell_type": "code",
   "execution_count": 51,
   "metadata": {},
   "outputs": [
    {
     "data": {
      "image/png": "[encoded data removed]",
      "text/plain": [
       "<Figure size 432x288 with 1 Axes>"
      ]
     },
     "metadata": {
      "needs_background": "light"
     },
     "output_type": "display_data"
    }
   ],
   "source": [
    "plt.scatter(TopDrift_nom, RMSD_nom)\n",
    "plt.show()"
   ]
  },
  {
   "cell_type": "code",
   "execution_count": 66,
   "metadata": {},
   "outputs": [],
   "source": [
    "X=np.array(list(zip(Average_nom,RMSD_nom)))"
   ]
  },
  {
   "cell_type": "code",
   "execution_count": 81,
   "metadata": {},
   "outputs": [
    {
     "name": "stdout",
     "output_type": "stream",
     "text": [
      "cordenada:  [0.69672131 0.04390244] label:  0\n",
      "cordenada:  [0.34016393 0.55121951] label:  3\n",
      "cordenada:  [0.18852459 1.        ] label:  1\n",
      "cordenada:  [1.        0.2097561] label:  0\n",
      "cordenada:  [0.20901639 0.34146341] label:  3\n",
      "cordenada:  [0.19672131 0.03414634] label:  2\n",
      "cordenada:  [0.81147541 0.79512195] label:  4\n",
      "cordenada:  [0.47540984 0.39512195] label:  3\n",
      "cordenada:  [0.26639344 0.48780488] label:  3\n",
      "cordenada:  [0.84836066 0.34634146] label:  0\n",
      "cordenada:  [0.27868852 0.62926829] label:  3\n",
      "cordenada:  [0.30327869 0.06829268] label:  2\n",
      "cordenada:  [0. 0.] label:  2\n",
      "cordenada:  [0.33196721 0.5902439 ] label:  3\n",
      "cordenada:  [0.53688525 0.37073171] label:  0\n",
      "cordenada:  [0.42622951 0.47317073] label:  3\n",
      "cordenada:  [0.71311475 0.4       ] label:  0\n",
      "cordenada:  [0.70491803 0.52195122] label:  4\n",
      "cordenada:  [0.21721311 0.82439024] label:  1\n",
      "cordenada:  [0.63934426 0.20487805] label:  0\n"
     ]
    },
    {
     "data": {
      "text/plain": [
       "<function matplotlib.pyplot.show(*args, **kw)>"
      ]
     },
     "execution_count": 81,
     "metadata": {},
     "output_type": "execute_result"
    },
    {
     "data": {
      "image/png": "[encoded data removed]",
      "text/plain": [
       "<Figure size 432x288 with 1 Axes>"
      ]
     },
     "metadata": {
      "needs_background": "light"
     },
     "output_type": "display_data"
    }
   ],
   "source": [
    "kmeans=KMeans(n_clusters=5)\n",
    "kmeans=kmeans.fit(X)\n",
    "labels=kmeans.predict(X)\n",
    "centroids=kmeans.cluster_centers_\n",
    "colors=['m.','r.','c.','y.','b.']\n",
    "for i in range(len(X)):\n",
    "    print('cordenada: ',X[i],'label: ',labels[i])\n",
    "    plt.plot(X[i][0],X[i][1],colors[labels[i]],markersize=10)\n",
    "plt.scatter(centroids[:,0],centroids[:,1],marker='x',s=150,linewidths=5,zorder=10)\n",
    "plt.show"
   ]
  },
  {
   "cell_type": "code",
   "execution_count": null,
   "metadata": {},
   "outputs": [],
   "source": []
  }
 ],
 "metadata": {
  "kernelspec": {
   "display_name": "Python 3",
   "language": "python",
   "name": "python3"
  },
  "language_info": {
   "codemirror_mode": {
    "name": "ipython",
    "version": 3
   },
   "file_extension": ".py",
   "mimetype": "text/x-python",
   "name": "python",
   "nbconvert_exporter": "python",
   "pygments_lexer": "ipython3",
   "version": "3.8.3"
  }
 },
 "nbformat": 4,
 "nbformat_minor": 4
}
